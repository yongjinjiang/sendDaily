{
 "cells": [
  {
   "cell_type": "code",
   "execution_count": 1,
   "metadata": {},
   "outputs": [],
   "source": [
    "import smtplib\n",
    "from email.mime.text import MIMEText\n",
    "\n",
    "# Set up your email details\n",
    "sender_email = \"yjjiangphysics@gmail.com\"\n",
    "receiver_email = \"jhuimin1950@gmail.com\"\n",
    "password = \"ecTjA9(00_!)))\"\n",
    "\n",
    "# Create the email content\n",
    "subject = \"Daily Email\"\n",
    "body = \"This is your daily email!\"\n",
    "\n",
    "msg = MIMEText(body)\n",
    "msg[\"Subject\"] = subject\n",
    "msg[\"From\"] = sender_email\n",
    "msg[\"To\"] = receiver_email"
   ]
  },
  {
   "cell_type": "code",
   "execution_count": 2,
   "metadata": {},
   "outputs": [
    {
     "name": "stdout",
     "output_type": "stream",
     "text": [
      "Failed to send email: (534, b'5.7.9 Application-specific password required. For more information, go to\\n5.7.9  https://support.google.com/mail/?p=InvalidSecondFactor 8926c6da1cb9f-4dc2a52fd69sm658961173.26 - gsmtp')\n"
     ]
    }
   ],
   "source": [
    "# Send the email\n",
    "try:\n",
    "    with smtplib.SMTP_SSL(\"smtp.gmail.com\", 465) as server:\n",
    "        server.login(sender_email, password)\n",
    "        server.sendmail(sender_email, receiver_email, msg.as_string())\n",
    "    print(\"Email sent successfully\")\n",
    "except Exception as e:\n",
    "    print(f\"Failed to send email: {e}\")"
   ]
  }
 ],
 "metadata": {
  "kernelspec": {
   "display_name": "sendEmail",
   "language": "python",
   "name": "python3"
  },
  "language_info": {
   "codemirror_mode": {
    "name": "ipython",
    "version": 3
   },
   "file_extension": ".py",
   "mimetype": "text/x-python",
   "name": "python",
   "nbconvert_exporter": "python",
   "pygments_lexer": "ipython3",
   "version": "3.11.10"
  }
 },
 "nbformat": 4,
 "nbformat_minor": 2
}
