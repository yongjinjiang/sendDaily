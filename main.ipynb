{
 "cells": [
  {
   "cell_type": "code",
   "execution_count": null,
   "metadata": {},
   "outputs": [
    {
     "name": "stdout",
     "output_type": "stream",
     "text": [
      "Message Id: 19361c74a636922c\n"
     ]
    }
   ],
   "source": [
    "from google.auth.transport.requests import Request\n",
    "from google.oauth2.credentials import Credentials\n",
    "from google_auth_oauthlib.flow import InstalledAppFlow\n",
    "from googleapiclient.discovery import build\n",
    "import os.path\n",
    "from dotenv import load_dotenv\n",
    "import os\n",
    "\n",
    "# Check if running in GitHub Actions\n",
    "if not os.getenv(\"GITHUB_ACTIONS\"):\n",
    "    # Load environment variables from .env file if not running in GitHub Actions\n",
    "    print(\"Running locally. Loading environment variables from .env file.\")\n",
    "    load_dotenv()\n",
    "else:\n",
    "    print(\"Running in GitHub Actions. Skipping .env loading.\")\n",
    "\n",
    "\n",
    "def authenticate_gmail():\n",
    "    SCOPES = ['https://www.googleapis.com/auth/gmail.send']\n",
    "    creds = None\n",
    "    if os.path.exists('token.json'):\n",
    "        creds = Credentials.from_authorized_user_file('token.json', SCOPES)\n",
    "    if not creds or not creds.valid:\n",
    "        if creds and creds.expired and creds.refresh_token:\n",
    "            creds.refresh(Request())\n",
    "        else:\n",
    "            flow = InstalledAppFlow.from_client_secrets_file('credentials.json', SCOPES)\n",
    "            creds = flow.run_local_server(port=0)\n",
    "        with open('token.json', 'w') as token:\n",
    "            token.write(creds.to_json())\n",
    "    return creds\n",
    "\n",
    "def create_message(sender, to, subject, message_text):\n",
    "    from email.mime.text import MIMEText\n",
    "    import base64\n",
    "    message = MIMEText(message_text)\n",
    "    message['to'] = to\n",
    "    message['from'] = sender\n",
    "    message['subject'] = subject\n",
    "    raw = base64.urlsafe_b64encode(message.as_bytes())\n",
    "    raw = raw.decode()\n",
    "    return {'raw': raw}\n",
    "\n",
    "def send_message(service, user_id, message):\n",
    "    try:\n",
    "        message = (service.users().messages().send(userId=user_id, body=message).execute())\n",
    "        print('Message Id: %s' % message['id'])\n",
    "        return message\n",
    "    except Exception as error:\n",
    "        print('An error occurred: %s' % error)\n",
    "\n",
    "if __name__ == '__main__':\n",
    "    # Authenticate and create the Gmail API service\n",
    "    creds = authenticate_gmail()\n",
    "    service = build('gmail', 'v1', credentials=creds)\n",
    "\n",
    "    # Read email addresses from environment variables\n",
    "    sender_email = os.getenv(\"SENDER_EMAIL\")\n",
    "    recipient_email = os.getenv(\"RECIPIENT_EMAIL\")\n",
    "\n",
    "    # Check if the environment variables are set\n",
    "    if not sender_email or not recipient_email:\n",
    "        raise ValueError(\"SENDER_EMAIL or RECIPIENT_EMAIL is not set in the environment.\")\n",
    "\n",
    "\n",
    "\n",
    "    # Create the email content\n",
    "    subject = \"Daily Email\"\n",
    "    body = \"This is your daily email!\"\n",
    "\n",
    "    # Create and send the email\n",
    "    message = create_message(sender_email, recipient_email, subject, body)\n",
    "    send_message(service, 'me', message)"
   ]
  },
  {
   "cell_type": "code",
   "execution_count": 10,
   "metadata": {},
   "outputs": [
    {
     "data": {
      "text/plain": [
       "'yjjiangphysics@gmail.com'"
      ]
     },
     "execution_count": 10,
     "metadata": {},
     "output_type": "execute_result"
    }
   ],
   "source": [
    "# os.path.exists('token.json')\n",
    "os.getenv(\"SENDER_EMAIL\")"
   ]
  },
  {
   "cell_type": "code",
   "execution_count": 9,
   "metadata": {},
   "outputs": [],
   "source": [
    "from dotenv import load_dotenv\n",
    "import os\n",
    "\n",
    "# Load environment variables from .env file\n",
    "load_dotenv()\n",
    "\n",
    "sender_email = os.getenv(\"SENDER_EMAIL\")\n",
    "recipient_email = os.getenv(\"RECIPIENT_EMAIL\")\n",
    "\n",
    "if not sender_email or not recipient_email:\n",
    "    raise ValueError(\"SENDER_EMAIL or RECIPIENT_EMAIL is not set in the environment.\")\n"
   ]
  }
 ],
 "metadata": {
  "kernelspec": {
   "display_name": "Python (youtube)",
   "language": "python",
   "name": "youtube"
  },
  "language_info": {
   "codemirror_mode": {
    "name": "ipython",
    "version": 3
   },
   "file_extension": ".py",
   "mimetype": "text/x-python",
   "name": "python",
   "nbconvert_exporter": "python",
   "pygments_lexer": "ipython3",
   "version": "3.11.8"
  }
 },
 "nbformat": 4,
 "nbformat_minor": 2
}
